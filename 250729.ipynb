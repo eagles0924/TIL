{
 "cells": [
  {
   "cell_type": "code",
   "execution_count": 4,
   "id": "9741d6e1",
   "metadata": {},
   "outputs": [
    {
     "name": "stdout",
     "output_type": "stream",
     "text": [
      "J\n"
     ]
    }
   ],
   "source": [
    "person = {'name': 'Shinbeom', 'age': 30}\n",
    "print(person.pop('nam','J'))"
   ]
  },
  {
   "cell_type": "code",
   "execution_count": 5,
   "id": "97015262",
   "metadata": {},
   "outputs": [
    {
     "name": "stdout",
     "output_type": "stream",
     "text": [
      "KOREA\n",
      "{'name': 'Shinbeom', 'age': 30, 'country': 'KOREA'}\n"
     ]
    }
   ],
   "source": [
    "print(person.setdefault('country', 'KOREA'))\n",
    "print(person)"
   ]
  },
  {
   "cell_type": "code",
   "execution_count": 9,
   "id": "73de1f5d",
   "metadata": {},
   "outputs": [
    {
     "data": {
      "text/plain": [
       "'Shinbeom'"
      ]
     },
     "execution_count": 9,
     "metadata": {},
     "output_type": "execute_result"
    }
   ],
   "source": [
    "person.setdefault('name')"
   ]
  },
  {
   "cell_type": "code",
   "execution_count": 10,
   "id": "f21b7a11",
   "metadata": {},
   "outputs": [
    {
     "data": {
      "text/plain": [
       "{'name': 'Shinbeom', 'age': 30, 'country': 'KOREA', 'countries': None}"
      ]
     },
     "execution_count": 10,
     "metadata": {},
     "output_type": "execute_result"
    }
   ],
   "source": [
    "person"
   ]
  },
  {
   "cell_type": "code",
   "execution_count": 39,
   "id": "ea2e8be4",
   "metadata": {},
   "outputs": [
    {
     "name": "stdout",
     "output_type": "stream",
     "text": [
      "{1, 2, 3, 'b', 'd', 'c', 'a'}\n",
      "1\n"
     ]
    }
   ],
   "source": [
    "my_set = {'a', 'b', 'c', 1, 2, 3}\n",
    "\n",
    "my_set.add('d')\n",
    "print(my_set)\n",
    "element = my_set.pop()\n",
    "print(element)"
   ]
  },
  {
   "cell_type": "code",
   "execution_count": 30,
   "id": "ef8b04e8",
   "metadata": {},
   "outputs": [
    {
     "name": "stdout",
     "output_type": "stream",
     "text": [
      "1\n"
     ]
    }
   ],
   "source": [
    "element = my_set.pop()\n",
    "print(element)"
   ]
  },
  {
   "cell_type": "code",
   "execution_count": 40,
   "id": "24b59099",
   "metadata": {},
   "outputs": [],
   "source": [
    "my_set.discard(10)"
   ]
  },
  {
   "cell_type": "code",
   "execution_count": 48,
   "id": "3d165a8f",
   "metadata": {},
   "outputs": [
    {
     "name": "stdout",
     "output_type": "stream",
     "text": [
      "1\n",
      "-6680980445975659553\n"
     ]
    }
   ],
   "source": [
    "print(hash(1))\n",
    "print(hash('a'))"
   ]
  },
  {
   "cell_type": "code",
   "execution_count": 55,
   "id": "4535db31",
   "metadata": {},
   "outputs": [
    {
     "data": {
      "text/plain": [
       "[1, 2, 3, 4, 5]"
      ]
     },
     "execution_count": 55,
     "metadata": {},
     "output_type": "execute_result"
    }
   ],
   "source": [
    "new_lst = []\n",
    "for num in [1,2,3,3,4,4,5,5,5]:\n",
    "    if not num in new_lst:\n",
    "        new_lst.append(num)\n",
    "new_lst"
   ]
  },
  {
   "cell_type": "code",
   "execution_count": null,
   "id": "0d80c90f",
   "metadata": {},
   "outputs": [],
   "source": []
  },
  {
   "cell_type": "code",
   "execution_count": 53,
   "id": "21200893",
   "metadata": {},
   "outputs": [
    {
     "data": {
      "text/plain": [
       "[1, 2, 3, 4, 5]"
      ]
     },
     "execution_count": 53,
     "metadata": {},
     "output_type": "execute_result"
    }
   ],
   "source": [
    "if False in new_lst:\n",
    "    new_lst.append(0)\n",
    "new_lst"
   ]
  },
  {
   "cell_type": "code",
   "execution_count": null,
   "id": "b0dff8cd",
   "metadata": {},
   "outputs": [],
   "source": [
    "def remove_duplicates(dupl_list):\n",
    "    num_dict = {}\n",
    "    for key in dupl_list:\n",
    "        # num_dict[key] = num_dict.get(key, 0) + 1   # get을 활용한 코드\n",
    "        if key in num_dict:\n",
    "            num_dict[key] = num_dict[key] + 1\n",
    "        else:\n",
    "            num_dict[key] = 1\n",
    "    return num_dict"
   ]
  },
  {
   "cell_type": "code",
   "execution_count": 59,
   "id": "9b544ab0",
   "metadata": {},
   "outputs": [],
   "source": [
    "sets = {1,2},{3,4},{5,6}\n",
    "def union_multiple_sets(*sets):\n",
    "    return sets"
   ]
  },
  {
   "cell_type": "code",
   "execution_count": 64,
   "id": "16576076",
   "metadata": {},
   "outputs": [
    {
     "data": {
      "text/plain": [
       "{1, 2}"
      ]
     },
     "execution_count": 64,
     "metadata": {},
     "output_type": "execute_result"
    }
   ],
   "source": [
    "new_sets = union_multiple_sets(*sets)\n",
    "new_sets[0]"
   ]
  },
  {
   "cell_type": "code",
   "execution_count": 72,
   "id": "2ec31834",
   "metadata": {},
   "outputs": [],
   "source": [
    "zipped = zip(sets)"
   ]
  },
  {
   "cell_type": "code",
   "execution_count": 79,
   "id": "87fa5005",
   "metadata": {},
   "outputs": [
    {
     "data": {
      "text/plain": [
       "{'x': 7, 'y': 10}"
      ]
     },
     "execution_count": 79,
     "metadata": {},
     "output_type": "execute_result"
    }
   ],
   "source": [
    "d1 = {'x':7}\n",
    "d2 = {'y':10}\n",
    "d3 = {**d1,**d2}\n",
    "d3"
   ]
  },
  {
   "cell_type": "code",
   "execution_count": 107,
   "id": "b8b67d71",
   "metadata": {},
   "outputs": [],
   "source": [
    "dictionary = {'person': {'name': 'Alice', 'age': 25}, 'location': 'NY'}\n",
    "def find_key(dictionary):\n",
    "    for key in dictionary.keys():\n",
    "        if type(dictionary[key]) == dict:\n",
    "            return list(dictionary.keys()) + find_key(dictionary[key])\n",
    "    return list(dictionary.keys())"
   ]
  },
  {
   "cell_type": "code",
   "execution_count": 108,
   "id": "597affe3",
   "metadata": {},
   "outputs": [
    {
     "data": {
      "text/plain": [
       "['person', 'location', 'name', 'age']"
      ]
     },
     "execution_count": 108,
     "metadata": {},
     "output_type": "execute_result"
    }
   ],
   "source": [
    "find_key(dictionary)"
   ]
  },
  {
   "cell_type": "code",
   "execution_count": 106,
   "id": "4e0668bc",
   "metadata": {},
   "outputs": [
    {
     "data": {
      "text/plain": [
       "['name', 'age', 'a', 'b']"
      ]
     },
     "execution_count": 106,
     "metadata": {},
     "output_type": "execute_result"
    }
   ],
   "source": [
    "['name', 'age'] + ['a','b']"
   ]
  },
  {
   "cell_type": "code",
   "execution_count": 1,
   "id": "90ddb9f8",
   "metadata": {},
   "outputs": [
    {
     "ename": "SyntaxError",
     "evalue": "can't use starred expression here (55097190.py, line 3)",
     "output_type": "error",
     "traceback": [
      "  \u001b[36mCell\u001b[39m\u001b[36m \u001b[39m\u001b[32mIn[1]\u001b[39m\u001b[32m, line 3\u001b[39m\n\u001b[31m    \u001b[39m\u001b[31mfor seet in *sets:\u001b[39m\n                ^\n\u001b[31mSyntaxError\u001b[39m\u001b[31m:\u001b[39m can't use starred expression here\n"
     ]
    }
   ],
   "source": [
    "sets = {1,2},{3,4},{5,6}\n",
    "def union_multiple_sets(*sets):\n",
    "    for seet in *sets:\n",
    "        print(seet)\n",
    "        print()"
   ]
  },
  {
   "cell_type": "code",
   "execution_count": 2,
   "id": "a577752f",
   "metadata": {},
   "outputs": [
    {
     "data": {
      "text/plain": [
       "{1, 2, 3, 4}"
      ]
     },
     "execution_count": 2,
     "metadata": {},
     "output_type": "execute_result"
    }
   ],
   "source": [
    "{1,2}.union({3,4})"
   ]
  },
  {
   "cell_type": "code",
   "execution_count": 13,
   "id": "c8f2f979",
   "metadata": {},
   "outputs": [
    {
     "name": "stdout",
     "output_type": "stream",
     "text": [
      "1440431981504\n",
      "1440431981504\n",
      "[]\n",
      "1440431981504\n"
     ]
    }
   ],
   "source": [
    "a = [1,2,3]\n",
    "print(id(a))\n",
    "a.clear()\n",
    "print(id(a))\n",
    "print(a)\n",
    "a.append(1)\n",
    "print(id(a))"
   ]
  },
  {
   "cell_type": "code",
   "execution_count": null,
   "id": "0573f9aa",
   "metadata": {},
   "outputs": [],
   "source": []
  },
  {
   "cell_type": "code",
   "execution_count": null,
   "id": "c52e8bca",
   "metadata": {},
   "outputs": [],
   "source": []
  }
 ],
 "metadata": {
  "kernelspec": {
   "display_name": "Python 3",
   "language": "python",
   "name": "python3"
  },
  "language_info": {
   "codemirror_mode": {
    "name": "ipython",
    "version": 3
   },
   "file_extension": ".py",
   "mimetype": "text/x-python",
   "name": "python",
   "nbconvert_exporter": "python",
   "pygments_lexer": "ipython3",
   "version": "3.11.9"
  }
 },
 "nbformat": 4,
 "nbformat_minor": 5
}
