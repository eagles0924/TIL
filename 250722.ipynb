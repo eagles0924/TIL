{
 "cells": [
  {
   "cell_type": "code",
   "execution_count": null,
   "id": "63ab2a84",
   "metadata": {},
   "outputs": [],
   "source": [
    "# 튜플 표현\n",
    "# my_tuple_1 = \n",
    "# my_tuple_2 =\n",
    "# my_tuple_3 = \n",
    "# my_tuple_4 = \n",
    "\n",
    "my_tuple = (1, 'a', 3, 'b', 5)\n",
    "\n",
    "# 인덱싱\n",
    "print(my_tuple[1])  # a\n",
    "\n",
    "# 슬라이싱\n",
    "print(my_tuple[2:4])  # (3, 'b')\n",
    "print(my_tuple[:3])  # (1, 'a', 3)\n",
    "print(my_tuple[3:])  # ('b', 5)\n",
    "print(my_tuple[::2])  # (1, 3, 5)\n",
    "print(my_tuple[::-1])  # (5, 'b', 3, 'a', 1)\n",
    "\n",
    "# 길이\n",
    "print(len(my_tuple))  # 5\n",
    "\n",
    "# 튜플은 불변\n",
    "# TypeError: 'tuple' object does not support item assignment\n",
    "# my_tuple[1] = 'z'\n",
    "\n",
    "\n",
    "# 다중 할당\n",
    "x, y = 10, 20\n",
    "print(x)  # 10\n",
    "print(y)  # 20\n",
    "# 실제 내부 동작\n",
    "# (x, y) = (10, 20)\n",
    "\n",
    "# 값 교환\n",
    "x, y = 1, 2\n",
    "x, y = y, x\n",
    "# 실제 내부 동작\n",
    "# temp = (y, x)  # 튜플 생성\n",
    "# x, y = temp  # 튜플 언패킹\n",
    "# print(x, y)  # 2 1"
   ]
  },
  {
   "cell_type": "code",
   "execution_count": 1,
   "id": "9776cd11",
   "metadata": {},
   "outputs": [],
   "source": [
    "a = 1,"
   ]
  },
  {
   "cell_type": "markdown",
   "id": "34f67a98",
   "metadata": {},
   "source": [
    "### **tuple은 불변 데이터**"
   ]
  },
  {
   "cell_type": "code",
   "execution_count": null,
   "id": "35a86c6b",
   "metadata": {},
   "outputs": [],
   "source": [
    "x, y = 10, 20\n",
    "(x, y) = (10, 20)\n",
    "\n",
    "# x, y = y, x의 ㅣ과정\n",
    "temp = (y, x)\n",
    "x, y = temp"
   ]
  },
  {
   "cell_type": "code",
   "execution_count": 12,
   "id": "e3b4737e",
   "metadata": {},
   "outputs": [
    {
     "data": {
      "text/plain": [
       "[10, 9, 8, 7, 6, 5, 4, 3, 2, 1]"
      ]
     },
     "execution_count": 12,
     "metadata": {},
     "output_type": "execute_result"
    }
   ],
   "source": [
    "list(range(10,0,-1))"
   ]
  },
  {
   "cell_type": "markdown",
   "id": "b4172c7a",
   "metadata": {},
   "source": [
    "### dict\n",
    "\n",
    "**순서와 중복이 없는 변경 가능한** 자료형"
   ]
  },
  {
   "cell_type": "code",
   "execution_count": 13,
   "id": "10129db5",
   "metadata": {},
   "outputs": [
    {
     "data": {
      "text/plain": [
       "'value'"
      ]
     },
     "execution_count": 13,
     "metadata": {},
     "output_type": "execute_result"
    }
   ],
   "source": [
    "dict = {'key':'value'}\n",
    "dict['key']"
   ]
  },
  {
   "cell_type": "code",
   "execution_count": 17,
   "id": "0c1a9bb6",
   "metadata": {},
   "outputs": [],
   "source": [
    "my_dict = {'apple':12, 'list':[1,2,3]}"
   ]
  },
  {
   "cell_type": "markdown",
   "id": "6fc57a0a",
   "metadata": {},
   "source": [
    "### other types"
   ]
  },
  {
   "cell_type": "code",
   "execution_count": 15,
   "id": "cdb5a105",
   "metadata": {},
   "outputs": [],
   "source": [
    "c = None"
   ]
  },
  {
   "cell_type": "markdown",
   "id": "f9f83938",
   "metadata": {},
   "source": [
    "### 얕은 복사 & 깊은 복사\n",
    "\n",
    "https://kevinitcoding.tistory.com/entry/%ED%8C%8C%EC%9D%B4%EC%8D%ACPython-%EC%96%95%EC%9D%80-%EB%B3%B5%EC%82%ACShallow-copy%EC%99%80-%EA%B9%8A%EC%9D%80-%EB%B3%B5%EC%82%ACdeep-copy%EC%97%90-%EB%8C%80%ED%95%9C-%EC%99%84%EB%B2%BD-%EC%A0%95%EB%A6%AC#google_vignette"
   ]
  },
  {
   "cell_type": "code",
   "execution_count": 20,
   "id": "fd9b2510",
   "metadata": {},
   "outputs": [
    {
     "data": {
      "text/plain": [
       "12"
      ]
     },
     "execution_count": 20,
     "metadata": {},
     "output_type": "execute_result"
    }
   ],
   "source": [
    "my_dict['apple']"
   ]
  },
  {
   "cell_type": "markdown",
   "id": "35a5a408",
   "metadata": {},
   "source": [
    "### 비교 연산자 (is ==)"
   ]
  },
  {
   "cell_type": "code",
   "execution_count": null,
   "id": "4101454a",
   "metadata": {},
   "outputs": [
    {
     "name": "stdout",
     "output_type": "stream",
     "text": [
      "False\n"
     ]
    }
   ],
   "source": [
    "a = [1,2,3]\n",
    "b = [1,2,3]\n",
    "\n",
    "print(a is b)   # \n",
    "\n",
    "# is는 None과 True, False 얘기할 때 사용."
   ]
  },
  {
   "cell_type": "markdown",
   "id": "eb957717",
   "metadata": {},
   "source": [
    "### 단축 평가"
   ]
  },
  {
   "cell_type": "code",
   "execution_count": null,
   "id": "b9bf6eaf",
   "metadata": {},
   "outputs": [
    {
     "name": "stdout",
     "output_type": "stream",
     "text": [
      "True\n",
      "False\n",
      "False\n",
      "False\n",
      "True\n",
      "True\n",
      "True\n",
      "False\n"
     ]
    }
   ],
   "source": [
    "print(True and True)    # 둘 다 True여야만 True\n",
    "print(True and False)   # True가 먼저 나오면 뒤에 나오는 것에 따라 결과 달라짐.\n",
    "print(False and True)\n",
    "print(False and False)  #  False가 먼저 나오는 경우 뒤에 것이 무엇이든 False\n",
    "\n",
    "print(True or True)    # 앞이 True면 무조건 True\n",
    "print(True or False)\n",
    "print(False or True)    # 앞이 False면 뒤의 것이 전체 결과와 같다.\n",
    "print(False or False)"
   ]
  },
  {
   "cell_type": "code",
   "execution_count": null,
   "id": "35041e34",
   "metadata": {},
   "outputs": [
    {
     "name": "stdout",
     "output_type": "stream",
     "text": [
      "나침반\n"
     ]
    }
   ],
   "source": [
    "item1 = '지도'\n",
    "item2 = '나침반'\n",
    "\n",
    "result = item1 and item2\n",
    "print(f'{result}')      # 후행 출력"
   ]
  },
  {
   "cell_type": "code",
   "execution_count": null,
   "id": "08e366fe",
   "metadata": {},
   "outputs": [
    {
     "name": "stdout",
     "output_type": "stream",
     "text": [
      "\n"
     ]
    }
   ],
   "source": [
    "item1 = '지도'\n",
    "item2 = ''\n",
    "\n",
    "result = item1 and item2\n",
    "print(f'{result}')      # 마지막 게 빈문자여서 빈문자 출력"
   ]
  },
  {
   "cell_type": "code",
   "execution_count": null,
   "id": "7fb9e772",
   "metadata": {},
   "outputs": [
    {
     "data": {
      "text/plain": [
       "1"
      ]
     },
     "execution_count": 30,
     "metadata": {},
     "output_type": "execute_result"
    }
   ],
   "source": [
    "# 처음에 False로 평가되면 뒤쪽은 탐색 안함.\n",
    "\n",
    "'' or 1"
   ]
  },
  {
   "cell_type": "markdown",
   "id": "a930f53a",
   "metadata": {},
   "source": [
    "----------------------"
   ]
  },
  {
   "cell_type": "code",
   "execution_count": 40,
   "id": "2c7aae93",
   "metadata": {},
   "outputs": [
    {
     "name": "stdout",
     "output_type": "stream",
     "text": [
      "True\n",
      "False\n",
      "True\n",
      "False\n",
      "True\n",
      "False\n",
      "False\n"
     ]
    }
   ],
   "source": [
    "print(bool(10))\n",
    "print(bool(0))\n",
    "print(bool(1.2))\n",
    "print(bool(0.0))\n",
    "print(bool([1,2,3]))\n",
    "print(bool({}))\n",
    "print(bool(None))"
   ]
  },
  {
   "cell_type": "code",
   "execution_count": 45,
   "id": "996df789",
   "metadata": {},
   "outputs": [
    {
     "name": "stdout",
     "output_type": "stream",
     "text": [
      "[]\n",
      "0\n",
      "20\n"
     ]
    }
   ],
   "source": [
    "print([] and 10)    # 첫 번째 것이 False이기 때문에 두 번째 것과 상관없이 첫 번째 것을 반환\n",
    "print(0 and [])     # 첫 번째 것이 True이기 때문에 두 번째 것까지 확인 후 두 번째 것 반환\n",
    "print(10 and 20)"
   ]
  },
  {
   "cell_type": "code",
   "execution_count": 49,
   "id": "d51fda3b",
   "metadata": {},
   "outputs": [
    {
     "name": "stdout",
     "output_type": "stream",
     "text": [
      "[]\n",
      "20\n"
     ]
    }
   ],
   "source": [
    "print([] and 18)\n",
    "print(10 and 20)"
   ]
  },
  {
   "cell_type": "code",
   "execution_count": null,
   "id": "1624f5a9",
   "metadata": {},
   "outputs": [
    {
     "name": "stdout",
     "output_type": "stream",
     "text": [
      "빈 리스트이다.\n",
      "1\n"
     ]
    }
   ],
   "source": [
    "lst = []    # 비어있으므로 False\n",
    "\n",
    "if not lst: # if not False이므로 if True. 즉, 진짜 빈 리스트라면 프린트된다.\n",
    "    print('빈 리스트이다.')\n",
    "else:\n",
    "    print('내용 있음.')\n",
    "if 10:      # if True와 같으므로 print 됨.\n",
    "    print(1)"
   ]
  },
  {
   "cell_type": "code",
   "execution_count": null,
   "id": "63da06b0",
   "metadata": {},
   "outputs": [],
   "source": [
    "# 주소를 저장하는 배열을 만들어 사용하기 때문에 list에 type이 다른 데이터들을 넣을 수 있다.\n",
    "# indexing을 하면 주소를 확인.\n",
    "\n"
   ]
  },
  {
   "cell_type": "markdown",
   "id": "c2f8bd1c",
   "metadata": {},
   "source": [
    "### 멤버쉽 연산자"
   ]
  },
  {
   "cell_type": "code",
   "execution_count": null,
   "id": "d681b3f4",
   "metadata": {},
   "outputs": [],
   "source": [
    "# in\n",
    "# not in"
   ]
  },
  {
   "cell_type": "markdown",
   "id": "84b9eb79",
   "metadata": {},
   "source": [
    "### 시퀀스형 연산자"
   ]
  },
  {
   "cell_type": "code",
   "execution_count": 32,
   "id": "c085cdc7",
   "metadata": {},
   "outputs": [
    {
     "name": "stdout",
     "output_type": "stream",
     "text": [
      "Gildong Hong\n"
     ]
    }
   ],
   "source": [
    "print('Gildong'+' Hong')"
   ]
  },
  {
   "cell_type": "code",
   "execution_count": 33,
   "id": "dc11d6df",
   "metadata": {},
   "outputs": [
    {
     "data": {
      "text/plain": [
       "[3, 6, 8]"
      ]
     },
     "execution_count": 33,
     "metadata": {},
     "output_type": "execute_result"
    }
   ],
   "source": [
    "[3,6,8,]"
   ]
  },
  {
   "cell_type": "code",
   "execution_count": null,
   "id": "7c9059eb",
   "metadata": {},
   "outputs": [],
   "source": [
    "# 1675, 1677, 2213, 2986, 2987"
   ]
  },
  {
   "cell_type": "code",
   "execution_count": 82,
   "id": "21d5a02c",
   "metadata": {},
   "outputs": [
    {
     "data": {
      "text/plain": [
       "{'남영로', '박지원', '이항복', '임제', '작자 미상', '조성기', '허균'}"
      ]
     },
     "execution_count": 82,
     "metadata": {},
     "output_type": "execute_result"
    }
   ],
   "source": [
    "authors = [\n",
    "    '작자 미상',\n",
    "    '이항복',\n",
    "    '임제',\n",
    "    '임제',\n",
    "    '조성기',\n",
    "    '조성기',\n",
    "    '조성기',\n",
    "    '임제',\n",
    "    '허균',\n",
    "    '허균',\n",
    "    '허균',\n",
    "    '임제',\n",
    "    '임제',\n",
    "    '임제',\n",
    "    '임제',\n",
    "    '임제',\n",
    "    '임제',\n",
    "    '임제',\n",
    "    '임제',\n",
    "    '임제',\n",
    "    '임제',\n",
    "    '박지원',\n",
    "    '이항복',\n",
    "    '남영로',\n",
    "    '남영로',\n",
    "    '남영로',\n",
    "    '이항복',\n",
    "    '임제',\n",
    "    '임제',\n",
    "]\n",
    "\n",
    "set(authors)"
   ]
  },
  {
   "cell_type": "code",
   "execution_count": null,
   "id": "6d24097b",
   "metadata": {},
   "outputs": [],
   "source": []
  }
 ],
 "metadata": {
  "kernelspec": {
   "display_name": "Python 3",
   "language": "python",
   "name": "python3"
  },
  "language_info": {
   "codemirror_mode": {
    "name": "ipython",
    "version": 3
   },
   "file_extension": ".py",
   "mimetype": "text/x-python",
   "name": "python",
   "nbconvert_exporter": "python",
   "pygments_lexer": "ipython3",
   "version": "3.11.9"
  }
 },
 "nbformat": 4,
 "nbformat_minor": 5
}
